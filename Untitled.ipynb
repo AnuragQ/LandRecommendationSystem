{
  "nbformat": 4,
  "nbformat_minor": 0,
  "metadata": {
    "colab": {
      "name": "Untitled",
      "version": "0.3.2",
      "provenance": []
    },
    "kernelspec": {
      "name": "python3",
      "display_name": "Python 3"
    }
  },
  "cells": [
    {
      "metadata": {
        "id": "vYEt_mG-OEJr",
        "colab_type": "code",
        "colab": {}
      },
      "cell_type": "code",
      "source": [
        "!pip install -U -q PyDrive\n",
        "from pydrive.auth import GoogleAuth\n",
        "from pydrive.drive import GoogleDrive\n",
        "from google.colab import auth\n",
        "from oauth2client.client import GoogleCredentials\n",
        "# Authenticate and create the PyDrive client.\n",
        "auth.authenticate_user()\n",
        "gauth = GoogleAuth()\n",
        "gauth.credentials = GoogleCredentials.get_application_default()\n",
        "drive = GoogleDrive(gauth)"
      ],
      "execution_count": 0,
      "outputs": []
    },
    {
      "metadata": {
        "id": "NbU4cOIWOjMb",
        "colab_type": "code",
        "colab": {}
      },
      "cell_type": "code",
      "source": [
        ""
      ],
      "execution_count": 0,
      "outputs": []
    },
    {
      "metadata": {
        "id": "WninJF6pOmTc",
        "colab_type": "code",
        "colab": {}
      },
      "cell_type": "code",
      "source": [
        "!pip install pandas\n",
        "!pip install numpy scikit-learn scikit-image\n",
        "!pip install matplotlib\n",
        "!pip install pytorch\n"
      ],
      "execution_count": 0,
      "outputs": []
    },
    {
      "metadata": {
        "id": "wrN0WCMJOVSx",
        "colab_type": "code",
        "colab": {}
      },
      "cell_type": "code",
      "source": [
        "import pandas as pd\n",
        "import csv"
      ],
      "execution_count": 0,
      "outputs": []
    },
    {
      "metadata": {
        "id": "HOwgKesOQvkQ",
        "colab_type": "code",
        "colab": {
          "base_uri": "https://localhost:8080/",
          "height": 489
        },
        "outputId": "e5323cf3-084d-4e04-efaa-219f4cf94133"
      },
      "cell_type": "code",
      "source": [
        "id='1jfVnb569dvaV8AvsCbAdhfO0ND-6yysM'\n",
        "downloaded = drive.CreateFile({'id':id}) \n",
        "downloaded.GetContentFile('sihdata.csv')  \n",
        "df3 = pd.read_csv('sihdata.csv')\n",
        "\n",
        "colarr=[]\n",
        "for col in df3:\n",
        "   colarr.append(col)\n",
        "    \n",
        "df4=df3.values\n",
        "\n",
        "newdatab=[]\n",
        "newdataw=[]\n",
        "newdatab.append(colarr)\n",
        "newdataw.append(colarr)\n",
        "for i in range(1,len(colarr)):\n",
        "  newdatab.append([colarr[i]])\n",
        "  newdataw.append([colarr[i]])\n",
        "  for k in range(1,len(colarr)):\n",
        "    cellb=[]\n",
        "    cellw=[]\n",
        "    if i==k:\n",
        "      newdatab[i].append([0,[]])\n",
        "      newdataw[i].append([0,[]])\n",
        "    else:\n",
        "      for j in df4:  \n",
        "        if j[i]==j[k] and j[k]!=0:\n",
        "          cellb.append(j[0]) \n",
        "        elif j[i]==j[k]:\n",
        "          cellw.append(j[0])\n",
        "      newdatab[i].append([len(cellb),cellb])\n",
        "      newdataw[i].append([len(cellw),cellw])\n",
        "      \n",
        "\n",
        "\n",
        "for i in range(0,len(colarr)):\n",
        "  print(newdatab[i])\n",
        "print(\"\\n\\n\\n\")\n",
        "for i in range(0,len(colarr)):\n",
        "  print(newdataw[i])\n",
        "\n",
        "\n",
        "\n",
        "  "
      ],
      "execution_count": 7,
      "outputs": [
        {
          "output_type": "stream",
          "text": [
            "['Industry', 'Residential Area', 'Water Body', 'Roadways', 'Railways', 'Airways', 'Electricity', 'Hospital', 'Fire Station', 'Market', 'forrest']\n",
            "['Residential Area', [0, []], [10, ['Wood Based Industry', 'Food Processing Industry', 'Paper Based', 'Live Stock Industry ', 'Textile Based', 'Automotive Industry', 'Pulp and Paper Industry', 'Service', 'Jute Industry', 'Steel Industry']], [7, ['Wood Based Industry', 'Food Processing Industry', 'Live Stock Industry ', 'Service', 'Aluminium Industry', 'Cotton Industry', 'Aerospace Industry']], [8, ['Food Processing Industry', 'Paper Based', 'Live Stock Industry ', 'Ceramic Industry', 'Automotive Industry', 'Electronics Industry', 'Aluminium Industry', 'Cotton Industry']], [9, ['Paper Based', 'Textile Based', 'Electronics Industry', 'Shipbuilding Industry', 'Aluminium Industry', 'Jute Industry', 'Cotton Industry', 'Steel Industry', 'Aerospace Industry']], [13, ['Wood Based Industry', 'Paper Based', 'Live Stock Industry ', 'Textile Based', 'Ceramic Industry', 'Electronics Industry', 'Pulp and Paper Industry', 'Shipbuilding Industry', 'Education Industry', 'Service', 'Jute Industry', 'Cotton Industry', 'Steel Industry']], [9, ['Wood Based Industry', 'Food Processing Industry', 'Textile Based', 'Ceramic Industry', 'Electronics Industry', 'Shipbuilding Industry', 'Service', 'Aluminium Industry', 'Jute Industry']], [10, ['Paper Based', 'Live Stock Industry ', 'Textile Based', 'Ceramic Industry', 'Electronics Industry', 'Service', 'Aluminium Industry', 'Steel Industry', 'Brick Industry', 'Aerospace Industry']], [6, ['Food Processing Industry', 'Automotive Industry', 'Education Industry', 'Aluminium Industry', 'Jute Industry', 'Aerospace Industry']], [8, ['Live Stock Industry ', 'Textile Based', 'Ceramic Industry', 'Pulp and Paper Industry', 'Cotton Industry', 'Steel Industry', 'Brick Industry', 'Aerospace Industry']]]\n",
            "['Water Body', [10, ['Wood Based Industry', 'Food Processing Industry', 'Paper Based', 'Live Stock Industry ', 'Textile Based', 'Automotive Industry', 'Pulp and Paper Industry', 'Service', 'Jute Industry', 'Steel Industry']], [0, []], [8, ['Fishing Industry', 'Wood Based Industry', 'Food Processing Industry', 'Leather Industry', 'Live Stock Industry ', 'Energy Industry', 'Glass Industry', 'Service']], [7, ['Fishing Industry', 'Food Processing Industry', 'Paper Based', 'Leather Industry', 'Live Stock Industry ', 'Automotive Industry', 'Cement Industry']], [10, ['Fishing Industry', 'Paper Based', 'Leather Industry', 'Rubber Industry', 'Textile Based', 'Energy Industry', 'Glass Industry', 'Cement Industry', 'Jute Industry', 'Steel Industry']], [9, ['Wood Based Industry', 'Paper Based', 'Live Stock Industry ', 'Textile Based', 'Energy Industry', 'Pulp and Paper Industry', 'Service', 'Jute Industry', 'Steel Industry']], [9, ['Fishing Industry', 'Wood Based Industry', 'Food Processing Industry', 'Leather Industry', 'Rubber Industry', 'Textile Based', 'Energy Industry', 'Service', 'Jute Industry']], [7, ['Fishing Industry', 'Paper Based', 'Live Stock Industry ', 'Textile Based', 'Glass Industry', 'Service', 'Steel Industry']], [8, ['Fishing Industry', 'Food Processing Industry', 'Leather Industry', 'Energy Industry', 'Glass Industry', 'Automotive Industry', 'Cement Industry', 'Jute Industry']], [7, ['Fishing Industry', 'Live Stock Industry ', 'Rubber Industry', 'Textile Based', 'Pulp and Paper Industry', 'Cement Industry', 'Steel Industry']]]\n",
            "['Roadways', [7, ['Wood Based Industry', 'Food Processing Industry', 'Live Stock Industry ', 'Service', 'Aluminium Industry', 'Cotton Industry', 'Aerospace Industry']], [8, ['Fishing Industry', 'Wood Based Industry', 'Food Processing Industry', 'Leather Industry', 'Live Stock Industry ', 'Energy Industry', 'Glass Industry', 'Service']], [0, []], [8, ['Fishing Industry', 'Food Processing Industry', 'Leather Industry', 'Live Stock Industry ', 'Iron and Steel Based Industry', 'Aluminium Industry', 'Cotton Industry', 'Fan Manufacturing']], [8, ['Fishing Industry', 'Leather Industry', 'Energy Industry', 'Glass Industry', 'Aluminium Industry', 'Cotton Industry', 'Fan Manufacturing', 'Aerospace Industry']], [8, ['Wood Based Industry', 'Tobacco Industry', 'Chemical Industry ', 'Live Stock Industry ', 'Energy Industry', 'Service', 'Cotton Industry', 'Fan Manufacturing']], [8, ['Fishing Industry', 'Wood Based Industry', 'Food Processing Industry', 'Leather Industry', 'Energy Industry', 'Iron and Steel Based Industry', 'Service', 'Aluminium Industry']], [8, ['Fishing Industry', 'Tobacco Industry', 'Chemical Industry ', 'Live Stock Industry ', 'Glass Industry', 'Service', 'Aluminium Industry', 'Aerospace Industry']], [9, ['Fishing Industry', 'Tobacco Industry', 'Food Processing Industry', 'Chemical Industry ', 'Leather Industry', 'Energy Industry', 'Glass Industry', 'Aluminium Industry', 'Aerospace Industry']], [5, ['Fishing Industry', 'Live Stock Industry ', 'Cotton Industry', 'Fan Manufacturing', 'Aerospace Industry']]]\n",
            "['Railways', [8, ['Food Processing Industry', 'Paper Based', 'Live Stock Industry ', 'Ceramic Industry', 'Automotive Industry', 'Electronics Industry', 'Aluminium Industry', 'Cotton Industry']], [7, ['Fishing Industry', 'Food Processing Industry', 'Paper Based', 'Leather Industry', 'Live Stock Industry ', 'Automotive Industry', 'Cement Industry']], [8, ['Fishing Industry', 'Food Processing Industry', 'Leather Industry', 'Live Stock Industry ', 'Iron and Steel Based Industry', 'Aluminium Industry', 'Cotton Industry', 'Fan Manufacturing']], [0, []], [8, ['Fishing Industry', 'Paper Based', 'Leather Industry', 'Electronics Industry', 'Cement Industry', 'Aluminium Industry', 'Cotton Industry', 'Fan Manufacturing']], [6, ['Paper Based', 'Live Stock Industry ', 'Ceramic Industry', 'Electronics Industry', 'Cotton Industry', 'Fan Manufacturing']], [7, ['Fishing Industry', 'Food Processing Industry', 'Leather Industry', 'Ceramic Industry', 'Electronics Industry', 'Iron and Steel Based Industry', 'Aluminium Industry']], [6, ['Fishing Industry', 'Paper Based', 'Live Stock Industry ', 'Ceramic Industry', 'Electronics Industry', 'Aluminium Industry']], [7, ['Fishing Industry', 'Food Processing Industry', 'Leather Industry', 'Plastic Industry', 'Automotive Industry', 'Cement Industry', 'Aluminium Industry']], [6, ['Fishing Industry', 'Live Stock Industry ', 'Ceramic Industry', 'Cement Industry', 'Cotton Industry', 'Fan Manufacturing']]]\n",
            "['Airways', [9, ['Paper Based', 'Textile Based', 'Electronics Industry', 'Shipbuilding Industry', 'Aluminium Industry', 'Jute Industry', 'Cotton Industry', 'Steel Industry', 'Aerospace Industry']], [10, ['Fishing Industry', 'Paper Based', 'Leather Industry', 'Rubber Industry', 'Textile Based', 'Energy Industry', 'Glass Industry', 'Cement Industry', 'Jute Industry', 'Steel Industry']], [8, ['Fishing Industry', 'Leather Industry', 'Energy Industry', 'Glass Industry', 'Aluminium Industry', 'Cotton Industry', 'Fan Manufacturing', 'Aerospace Industry']], [8, ['Fishing Industry', 'Paper Based', 'Leather Industry', 'Electronics Industry', 'Cement Industry', 'Aluminium Industry', 'Cotton Industry', 'Fan Manufacturing']], [0, []], [9, ['Paper Based', 'Textile Based', 'Energy Industry', 'Electronics Industry', 'Shipbuilding Industry', 'Jute Industry', 'Cotton Industry', 'Steel Industry', 'Fan Manufacturing']], [9, ['Fishing Industry', 'Leather Industry', 'Rubber Industry', 'Textile Based', 'Energy Industry', 'Electronics Industry', 'Shipbuilding Industry', 'Aluminium Industry', 'Jute Industry']], [8, ['Fishing Industry', 'Paper Based', 'Textile Based', 'Glass Industry', 'Electronics Industry', 'Aluminium Industry', 'Steel Industry', 'Aerospace Industry']], [8, ['Fishing Industry', 'Leather Industry', 'Energy Industry', 'Glass Industry', 'Cement Industry', 'Aluminium Industry', 'Jute Industry', 'Aerospace Industry']], [8, ['Fishing Industry', 'Rubber Industry', 'Textile Based', 'Cement Industry', 'Cotton Industry', 'Steel Industry', 'Fan Manufacturing', 'Aerospace Industry']]]\n",
            "['Electricity', [13, ['Wood Based Industry', 'Paper Based', 'Live Stock Industry ', 'Textile Based', 'Ceramic Industry', 'Electronics Industry', 'Pulp and Paper Industry', 'Shipbuilding Industry', 'Education Industry', 'Service', 'Jute Industry', 'Cotton Industry', 'Steel Industry']], [9, ['Wood Based Industry', 'Paper Based', 'Live Stock Industry ', 'Textile Based', 'Energy Industry', 'Pulp and Paper Industry', 'Service', 'Jute Industry', 'Steel Industry']], [8, ['Wood Based Industry', 'Tobacco Industry', 'Chemical Industry ', 'Live Stock Industry ', 'Energy Industry', 'Service', 'Cotton Industry', 'Fan Manufacturing']], [6, ['Paper Based', 'Live Stock Industry ', 'Ceramic Industry', 'Electronics Industry', 'Cotton Industry', 'Fan Manufacturing']], [9, ['Paper Based', 'Textile Based', 'Energy Industry', 'Electronics Industry', 'Shipbuilding Industry', 'Jute Industry', 'Cotton Industry', 'Steel Industry', 'Fan Manufacturing']], [0, []], [8, ['Wood Based Industry', 'Textile Based', 'Energy Industry', 'Ceramic Industry', 'Electronics Industry', 'Shipbuilding Industry', 'Service', 'Jute Industry']], [9, ['Tobacco Industry', 'Chemical Industry ', 'Paper Based', 'Live Stock Industry ', 'Textile Based', 'Ceramic Industry', 'Electronics Industry', 'Service', 'Steel Industry']], [5, ['Tobacco Industry', 'Chemical Industry ', 'Energy Industry', 'Education Industry', 'Jute Industry']], [7, ['Live Stock Industry ', 'Textile Based', 'Ceramic Industry', 'Pulp and Paper Industry', 'Cotton Industry', 'Steel Industry', 'Fan Manufacturing']]]\n",
            "['Hospital', [9, ['Wood Based Industry', 'Food Processing Industry', 'Textile Based', 'Ceramic Industry', 'Electronics Industry', 'Shipbuilding Industry', 'Service', 'Aluminium Industry', 'Jute Industry']], [9, ['Fishing Industry', 'Wood Based Industry', 'Food Processing Industry', 'Leather Industry', 'Rubber Industry', 'Textile Based', 'Energy Industry', 'Service', 'Jute Industry']], [8, ['Fishing Industry', 'Wood Based Industry', 'Food Processing Industry', 'Leather Industry', 'Energy Industry', 'Iron and Steel Based Industry', 'Service', 'Aluminium Industry']], [7, ['Fishing Industry', 'Food Processing Industry', 'Leather Industry', 'Ceramic Industry', 'Electronics Industry', 'Iron and Steel Based Industry', 'Aluminium Industry']], [9, ['Fishing Industry', 'Leather Industry', 'Rubber Industry', 'Textile Based', 'Energy Industry', 'Electronics Industry', 'Shipbuilding Industry', 'Aluminium Industry', 'Jute Industry']], [8, ['Wood Based Industry', 'Textile Based', 'Energy Industry', 'Ceramic Industry', 'Electronics Industry', 'Shipbuilding Industry', 'Service', 'Jute Industry']], [0, []], [6, ['Fishing Industry', 'Textile Based', 'Ceramic Industry', 'Electronics Industry', 'Service', 'Aluminium Industry']], [6, ['Fishing Industry', 'Food Processing Industry', 'Leather Industry', 'Energy Industry', 'Aluminium Industry', 'Jute Industry']], [4, ['Fishing Industry', 'Rubber Industry', 'Textile Based', 'Ceramic Industry']]]\n",
            "['Fire Station', [10, ['Paper Based', 'Live Stock Industry ', 'Textile Based', 'Ceramic Industry', 'Electronics Industry', 'Service', 'Aluminium Industry', 'Steel Industry', 'Brick Industry', 'Aerospace Industry']], [7, ['Fishing Industry', 'Paper Based', 'Live Stock Industry ', 'Textile Based', 'Glass Industry', 'Service', 'Steel Industry']], [8, ['Fishing Industry', 'Tobacco Industry', 'Chemical Industry ', 'Live Stock Industry ', 'Glass Industry', 'Service', 'Aluminium Industry', 'Aerospace Industry']], [6, ['Fishing Industry', 'Paper Based', 'Live Stock Industry ', 'Ceramic Industry', 'Electronics Industry', 'Aluminium Industry']], [8, ['Fishing Industry', 'Paper Based', 'Textile Based', 'Glass Industry', 'Electronics Industry', 'Aluminium Industry', 'Steel Industry', 'Aerospace Industry']], [9, ['Tobacco Industry', 'Chemical Industry ', 'Paper Based', 'Live Stock Industry ', 'Textile Based', 'Ceramic Industry', 'Electronics Industry', 'Service', 'Steel Industry']], [6, ['Fishing Industry', 'Textile Based', 'Ceramic Industry', 'Electronics Industry', 'Service', 'Aluminium Industry']], [0, []], [6, ['Fishing Industry', 'Tobacco Industry', 'Chemical Industry ', 'Glass Industry', 'Aluminium Industry', 'Aerospace Industry']], [7, ['Fishing Industry', 'Live Stock Industry ', 'Textile Based', 'Ceramic Industry', 'Steel Industry', 'Brick Industry', 'Aerospace Industry']]]\n",
            "['Market', [6, ['Food Processing Industry', 'Automotive Industry', 'Education Industry', 'Aluminium Industry', 'Jute Industry', 'Aerospace Industry']], [8, ['Fishing Industry', 'Food Processing Industry', 'Leather Industry', 'Energy Industry', 'Glass Industry', 'Automotive Industry', 'Cement Industry', 'Jute Industry']], [9, ['Fishing Industry', 'Tobacco Industry', 'Food Processing Industry', 'Chemical Industry ', 'Leather Industry', 'Energy Industry', 'Glass Industry', 'Aluminium Industry', 'Aerospace Industry']], [7, ['Fishing Industry', 'Food Processing Industry', 'Leather Industry', 'Plastic Industry', 'Automotive Industry', 'Cement Industry', 'Aluminium Industry']], [8, ['Fishing Industry', 'Leather Industry', 'Energy Industry', 'Glass Industry', 'Cement Industry', 'Aluminium Industry', 'Jute Industry', 'Aerospace Industry']], [5, ['Tobacco Industry', 'Chemical Industry ', 'Energy Industry', 'Education Industry', 'Jute Industry']], [6, ['Fishing Industry', 'Food Processing Industry', 'Leather Industry', 'Energy Industry', 'Aluminium Industry', 'Jute Industry']], [6, ['Fishing Industry', 'Tobacco Industry', 'Chemical Industry ', 'Glass Industry', 'Aluminium Industry', 'Aerospace Industry']], [0, []], [3, ['Fishing Industry', 'Cement Industry', 'Aerospace Industry']]]\n",
            "['forrest', [8, ['Live Stock Industry ', 'Textile Based', 'Ceramic Industry', 'Pulp and Paper Industry', 'Cotton Industry', 'Steel Industry', 'Brick Industry', 'Aerospace Industry']], [7, ['Fishing Industry', 'Live Stock Industry ', 'Rubber Industry', 'Textile Based', 'Pulp and Paper Industry', 'Cement Industry', 'Steel Industry']], [5, ['Fishing Industry', 'Live Stock Industry ', 'Cotton Industry', 'Fan Manufacturing', 'Aerospace Industry']], [6, ['Fishing Industry', 'Live Stock Industry ', 'Ceramic Industry', 'Cement Industry', 'Cotton Industry', 'Fan Manufacturing']], [8, ['Fishing Industry', 'Rubber Industry', 'Textile Based', 'Cement Industry', 'Cotton Industry', 'Steel Industry', 'Fan Manufacturing', 'Aerospace Industry']], [7, ['Live Stock Industry ', 'Textile Based', 'Ceramic Industry', 'Pulp and Paper Industry', 'Cotton Industry', 'Steel Industry', 'Fan Manufacturing']], [4, ['Fishing Industry', 'Rubber Industry', 'Textile Based', 'Ceramic Industry']], [7, ['Fishing Industry', 'Live Stock Industry ', 'Textile Based', 'Ceramic Industry', 'Steel Industry', 'Brick Industry', 'Aerospace Industry']], [3, ['Fishing Industry', 'Cement Industry', 'Aerospace Industry']], [0, []]]\n",
            "\n",
            "\n",
            "\n",
            "\n",
            "['Industry', 'Residential Area', 'Water Body', 'Roadways', 'Railways', 'Airways', 'Electricity', 'Hospital', 'Fire Station', 'Market', 'forrest']\n",
            "['Residential Area', [0, []], [5, ['Tobacco Industry', 'Chemical Industry ', 'Plastic Industry', 'Iron and Steel Based Industry', 'Fan Manufacturing']], [3, ['Rubber Industry', 'Plastic Industry', 'Cement Industry']], [5, ['Tobacco Industry', 'Chemical Industry ', 'Rubber Industry', 'Energy Industry', 'Glass Industry']], [4, ['Tobacco Industry', 'Chemical Industry ', 'Plastic Industry', 'Iron and Steel Based Industry']], [7, ['Fishing Industry', 'Leather Industry', 'Rubber Industry', 'Plastic Industry', 'Glass Industry', 'Iron and Steel Based Industry', 'Cement Industry']], [6, ['Tobacco Industry', 'Chemical Industry ', 'Plastic Industry', 'Glass Industry', 'Cement Industry', 'Fan Manufacturing']], [7, ['Leather Industry', 'Rubber Industry', 'Plastic Industry', 'Energy Industry', 'Iron and Steel Based Industry', 'Cement Industry', 'Fan Manufacturing']], [3, ['Rubber Industry', 'Iron and Steel Based Industry', 'Fan Manufacturing']], [7, ['Tobacco Industry', 'Chemical Industry ', 'Leather Industry', 'Plastic Industry', 'Energy Industry', 'Glass Industry', 'Iron and Steel Based Industry']]]\n",
            "['Water Body', [5, ['Tobacco Industry', 'Chemical Industry ', 'Plastic Industry', 'Iron and Steel Based Industry', 'Fan Manufacturing']], [0, []], [6, ['Plastic Industry', 'Ceramic Industry', 'Electronics Industry', 'Shipbuilding Industry', 'Education Industry', 'Brick Industry']], [6, ['Tobacco Industry', 'Chemical Industry ', 'Shipbuilding Industry', 'Education Industry', 'Brick Industry', 'Aerospace Industry']], [7, ['Tobacco Industry', 'Chemical Industry ', 'Plastic Industry', 'Ceramic Industry', 'Iron and Steel Based Industry', 'Education Industry', 'Brick Industry']], [5, ['Plastic Industry', 'Iron and Steel Based Industry', 'Aluminium Industry', 'Brick Industry', 'Aerospace Industry']], [8, ['Tobacco Industry', 'Chemical Industry ', 'Plastic Industry', 'Education Industry', 'Cotton Industry', 'Brick Industry', 'Fan Manufacturing', 'Aerospace Industry']], [6, ['Plastic Industry', 'Iron and Steel Based Industry', 'Shipbuilding Industry', 'Education Industry', 'Cotton Industry', 'Fan Manufacturing']], [7, ['Ceramic Industry', 'Electronics Industry', 'Iron and Steel Based Industry', 'Shipbuilding Industry', 'Cotton Industry', 'Brick Industry', 'Fan Manufacturing']], [8, ['Tobacco Industry', 'Chemical Industry ', 'Plastic Industry', 'Electronics Industry', 'Iron and Steel Based Industry', 'Shipbuilding Industry', 'Education Industry', 'Aluminium Industry']]]\n",
            "['Roadways', [3, ['Rubber Industry', 'Plastic Industry', 'Cement Industry']], [6, ['Plastic Industry', 'Ceramic Industry', 'Electronics Industry', 'Shipbuilding Industry', 'Education Industry', 'Brick Industry']], [0, []], [8, ['Rubber Industry', 'Textile Based', 'Pulp and Paper Industry', 'Shipbuilding Industry', 'Education Industry', 'Jute Industry', 'Steel Industry', 'Brick Industry']], [6, ['Plastic Industry', 'Ceramic Industry', 'Automotive Industry', 'Pulp and Paper Industry', 'Education Industry', 'Brick Industry']], [5, ['Rubber Industry', 'Plastic Industry', 'Automotive Industry', 'Cement Industry', 'Brick Industry']], [8, ['Paper Based', 'Plastic Industry', 'Automotive Industry', 'Pulp and Paper Industry', 'Education Industry', 'Cement Industry', 'Steel Industry', 'Brick Industry']], [8, ['Rubber Industry', 'Plastic Industry', 'Automotive Industry', 'Pulp and Paper Industry', 'Shipbuilding Industry', 'Education Industry', 'Cement Industry', 'Jute Industry']], [9, ['Paper Based', 'Rubber Industry', 'Textile Based', 'Ceramic Industry', 'Electronics Industry', 'Pulp and Paper Industry', 'Shipbuilding Industry', 'Steel Industry', 'Brick Industry']], [7, ['Paper Based', 'Plastic Industry', 'Automotive Industry', 'Electronics Industry', 'Shipbuilding Industry', 'Education Industry', 'Jute Industry']]]\n",
            "['Railways', [5, ['Tobacco Industry', 'Chemical Industry ', 'Rubber Industry', 'Energy Industry', 'Glass Industry']], [6, ['Tobacco Industry', 'Chemical Industry ', 'Shipbuilding Industry', 'Education Industry', 'Brick Industry', 'Aerospace Industry']], [8, ['Rubber Industry', 'Textile Based', 'Pulp and Paper Industry', 'Shipbuilding Industry', 'Education Industry', 'Jute Industry', 'Steel Industry', 'Brick Industry']], [0, []], [7, ['Wood Based Industry', 'Tobacco Industry', 'Chemical Industry ', 'Pulp and Paper Industry', 'Education Industry', 'Service', 'Brick Industry']], [4, ['Rubber Industry', 'Glass Industry', 'Brick Industry', 'Aerospace Industry']], [8, ['Tobacco Industry', 'Chemical Industry ', 'Glass Industry', 'Pulp and Paper Industry', 'Education Industry', 'Steel Industry', 'Brick Industry', 'Aerospace Industry']], [7, ['Wood Based Industry', 'Rubber Industry', 'Energy Industry', 'Pulp and Paper Industry', 'Shipbuilding Industry', 'Education Industry', 'Jute Industry']], [8, ['Wood Based Industry', 'Rubber Industry', 'Textile Based', 'Pulp and Paper Industry', 'Shipbuilding Industry', 'Service', 'Steel Industry', 'Brick Industry']], [9, ['Wood Based Industry', 'Tobacco Industry', 'Chemical Industry ', 'Energy Industry', 'Glass Industry', 'Shipbuilding Industry', 'Education Industry', 'Service', 'Jute Industry']]]\n",
            "['Airways', [4, ['Tobacco Industry', 'Chemical Industry ', 'Plastic Industry', 'Iron and Steel Based Industry']], [7, ['Tobacco Industry', 'Chemical Industry ', 'Plastic Industry', 'Ceramic Industry', 'Iron and Steel Based Industry', 'Education Industry', 'Brick Industry']], [6, ['Plastic Industry', 'Ceramic Industry', 'Automotive Industry', 'Pulp and Paper Industry', 'Education Industry', 'Brick Industry']], [7, ['Wood Based Industry', 'Tobacco Industry', 'Chemical Industry ', 'Pulp and Paper Industry', 'Education Industry', 'Service', 'Brick Industry']], [0, []], [5, ['Food Processing Industry', 'Plastic Industry', 'Automotive Industry', 'Iron and Steel Based Industry', 'Brick Industry']], [8, ['Tobacco Industry', 'Chemical Industry ', 'Live Stock Industry ', 'Plastic Industry', 'Automotive Industry', 'Pulp and Paper Industry', 'Education Industry', 'Brick Industry']], [7, ['Wood Based Industry', 'Food Processing Industry', 'Plastic Industry', 'Automotive Industry', 'Pulp and Paper Industry', 'Iron and Steel Based Industry', 'Education Industry']], [7, ['Wood Based Industry', 'Live Stock Industry ', 'Ceramic Industry', 'Pulp and Paper Industry', 'Iron and Steel Based Industry', 'Service', 'Brick Industry']], [9, ['Wood Based Industry', 'Tobacco Industry', 'Food Processing Industry', 'Chemical Industry ', 'Plastic Industry', 'Automotive Industry', 'Iron and Steel Based Industry', 'Education Industry', 'Service']]]\n",
            "['Electricity', [7, ['Fishing Industry', 'Leather Industry', 'Rubber Industry', 'Plastic Industry', 'Glass Industry', 'Iron and Steel Based Industry', 'Cement Industry']], [5, ['Plastic Industry', 'Iron and Steel Based Industry', 'Aluminium Industry', 'Brick Industry', 'Aerospace Industry']], [5, ['Rubber Industry', 'Plastic Industry', 'Automotive Industry', 'Cement Industry', 'Brick Industry']], [4, ['Rubber Industry', 'Glass Industry', 'Brick Industry', 'Aerospace Industry']], [5, ['Food Processing Industry', 'Plastic Industry', 'Automotive Industry', 'Iron and Steel Based Industry', 'Brick Industry']], [0, []], [6, ['Plastic Industry', 'Glass Industry', 'Automotive Industry', 'Cement Industry', 'Brick Industry', 'Aerospace Industry']], [7, ['Food Processing Industry', 'Leather Industry', 'Rubber Industry', 'Plastic Industry', 'Automotive Industry', 'Iron and Steel Based Industry', 'Cement Industry']], [3, ['Rubber Industry', 'Iron and Steel Based Industry', 'Brick Industry']], [7, ['Food Processing Industry', 'Leather Industry', 'Plastic Industry', 'Glass Industry', 'Automotive Industry', 'Iron and Steel Based Industry', 'Aluminium Industry']]]\n",
            "['Hospital', [6, ['Tobacco Industry', 'Chemical Industry ', 'Plastic Industry', 'Glass Industry', 'Cement Industry', 'Fan Manufacturing']], [8, ['Tobacco Industry', 'Chemical Industry ', 'Plastic Industry', 'Education Industry', 'Cotton Industry', 'Brick Industry', 'Fan Manufacturing', 'Aerospace Industry']], [8, ['Paper Based', 'Plastic Industry', 'Automotive Industry', 'Pulp and Paper Industry', 'Education Industry', 'Cement Industry', 'Steel Industry', 'Brick Industry']], [8, ['Tobacco Industry', 'Chemical Industry ', 'Glass Industry', 'Pulp and Paper Industry', 'Education Industry', 'Steel Industry', 'Brick Industry', 'Aerospace Industry']], [8, ['Tobacco Industry', 'Chemical Industry ', 'Live Stock Industry ', 'Plastic Industry', 'Automotive Industry', 'Pulp and Paper Industry', 'Education Industry', 'Brick Industry']], [6, ['Plastic Industry', 'Glass Industry', 'Automotive Industry', 'Cement Industry', 'Brick Industry', 'Aerospace Industry']], [0, []], [7, ['Plastic Industry', 'Automotive Industry', 'Pulp and Paper Industry', 'Education Industry', 'Cement Industry', 'Cotton Industry', 'Fan Manufacturing']], [7, ['Paper Based', 'Live Stock Industry ', 'Pulp and Paper Industry', 'Cotton Industry', 'Steel Industry', 'Brick Industry', 'Fan Manufacturing']], [7, ['Tobacco Industry', 'Chemical Industry ', 'Paper Based', 'Plastic Industry', 'Glass Industry', 'Automotive Industry', 'Education Industry']]]\n",
            "['Fire Station', [7, ['Leather Industry', 'Rubber Industry', 'Plastic Industry', 'Energy Industry', 'Iron and Steel Based Industry', 'Cement Industry', 'Fan Manufacturing']], [6, ['Plastic Industry', 'Iron and Steel Based Industry', 'Shipbuilding Industry', 'Education Industry', 'Cotton Industry', 'Fan Manufacturing']], [8, ['Rubber Industry', 'Plastic Industry', 'Automotive Industry', 'Pulp and Paper Industry', 'Shipbuilding Industry', 'Education Industry', 'Cement Industry', 'Jute Industry']], [7, ['Wood Based Industry', 'Rubber Industry', 'Energy Industry', 'Pulp and Paper Industry', 'Shipbuilding Industry', 'Education Industry', 'Jute Industry']], [7, ['Wood Based Industry', 'Food Processing Industry', 'Plastic Industry', 'Automotive Industry', 'Pulp and Paper Industry', 'Iron and Steel Based Industry', 'Education Industry']], [7, ['Food Processing Industry', 'Leather Industry', 'Rubber Industry', 'Plastic Industry', 'Automotive Industry', 'Iron and Steel Based Industry', 'Cement Industry']], [7, ['Plastic Industry', 'Automotive Industry', 'Pulp and Paper Industry', 'Education Industry', 'Cement Industry', 'Cotton Industry', 'Fan Manufacturing']], [0, []], [7, ['Wood Based Industry', 'Rubber Industry', 'Pulp and Paper Industry', 'Iron and Steel Based Industry', 'Shipbuilding Industry', 'Cotton Industry', 'Fan Manufacturing']], [10, ['Wood Based Industry', 'Food Processing Industry', 'Leather Industry', 'Plastic Industry', 'Energy Industry', 'Automotive Industry', 'Iron and Steel Based Industry', 'Shipbuilding Industry', 'Education Industry', 'Jute Industry']]]\n",
            "['Market', [3, ['Rubber Industry', 'Iron and Steel Based Industry', 'Fan Manufacturing']], [7, ['Ceramic Industry', 'Electronics Industry', 'Iron and Steel Based Industry', 'Shipbuilding Industry', 'Cotton Industry', 'Brick Industry', 'Fan Manufacturing']], [9, ['Paper Based', 'Rubber Industry', 'Textile Based', 'Ceramic Industry', 'Electronics Industry', 'Pulp and Paper Industry', 'Shipbuilding Industry', 'Steel Industry', 'Brick Industry']], [8, ['Wood Based Industry', 'Rubber Industry', 'Textile Based', 'Pulp and Paper Industry', 'Shipbuilding Industry', 'Service', 'Steel Industry', 'Brick Industry']], [7, ['Wood Based Industry', 'Live Stock Industry ', 'Ceramic Industry', 'Pulp and Paper Industry', 'Iron and Steel Based Industry', 'Service', 'Brick Industry']], [3, ['Rubber Industry', 'Iron and Steel Based Industry', 'Brick Industry']], [7, ['Paper Based', 'Live Stock Industry ', 'Pulp and Paper Industry', 'Cotton Industry', 'Steel Industry', 'Brick Industry', 'Fan Manufacturing']], [7, ['Wood Based Industry', 'Rubber Industry', 'Pulp and Paper Industry', 'Iron and Steel Based Industry', 'Shipbuilding Industry', 'Cotton Industry', 'Fan Manufacturing']], [0, []], [6, ['Wood Based Industry', 'Paper Based', 'Electronics Industry', 'Iron and Steel Based Industry', 'Shipbuilding Industry', 'Service']]]\n",
            "['forrest', [7, ['Tobacco Industry', 'Chemical Industry ', 'Leather Industry', 'Plastic Industry', 'Energy Industry', 'Glass Industry', 'Iron and Steel Based Industry']], [8, ['Tobacco Industry', 'Chemical Industry ', 'Plastic Industry', 'Electronics Industry', 'Iron and Steel Based Industry', 'Shipbuilding Industry', 'Education Industry', 'Aluminium Industry']], [7, ['Paper Based', 'Plastic Industry', 'Automotive Industry', 'Electronics Industry', 'Shipbuilding Industry', 'Education Industry', 'Jute Industry']], [9, ['Wood Based Industry', 'Tobacco Industry', 'Chemical Industry ', 'Energy Industry', 'Glass Industry', 'Shipbuilding Industry', 'Education Industry', 'Service', 'Jute Industry']], [9, ['Wood Based Industry', 'Tobacco Industry', 'Food Processing Industry', 'Chemical Industry ', 'Plastic Industry', 'Automotive Industry', 'Iron and Steel Based Industry', 'Education Industry', 'Service']], [7, ['Food Processing Industry', 'Leather Industry', 'Plastic Industry', 'Glass Industry', 'Automotive Industry', 'Iron and Steel Based Industry', 'Aluminium Industry']], [7, ['Tobacco Industry', 'Chemical Industry ', 'Paper Based', 'Plastic Industry', 'Glass Industry', 'Automotive Industry', 'Education Industry']], [10, ['Wood Based Industry', 'Food Processing Industry', 'Leather Industry', 'Plastic Industry', 'Energy Industry', 'Automotive Industry', 'Iron and Steel Based Industry', 'Shipbuilding Industry', 'Education Industry', 'Jute Industry']], [6, ['Wood Based Industry', 'Paper Based', 'Electronics Industry', 'Iron and Steel Based Industry', 'Shipbuilding Industry', 'Service']], [0, []]]\n"
          ],
          "name": "stdout"
        }
      ]
    },
    {
      "metadata": {
        "id": "HBZrD4l2bKqE",
        "colab_type": "code",
        "colab": {
          "base_uri": "https://localhost:8080/",
          "height": 34
        },
        "outputId": "b5f5a05e-3395-4931-8c41-45de1119b6b3"
      },
      "cell_type": "code",
      "source": [
        "random=['Market','Water Body','Airways','Electricity']\n",
        "\n",
        "indx=[]\n",
        "for j in random:\n",
        "  for i in range(1,len(newdatab)):\n",
        "    if j==newdatab[i][0]:\n",
        "      indx.append(i)\n",
        "print(indx)\n",
        "  \n"
      ],
      "execution_count": 10,
      "outputs": [
        {
          "output_type": "stream",
          "text": [
            "[9, 2, 5, 6]\n"
          ],
          "name": "stdout"
        }
      ]
    },
    {
      "metadata": {
        "id": "mMWxK0Kha_uh",
        "colab_type": "code",
        "colab": {
          "base_uri": "https://localhost:8080/",
          "height": 72
        },
        "outputId": "4bbfd9ee-16d0-447d-b263-4683c663bfbb"
      },
      "cell_type": "code",
      "source": [
        "slcb=[]\n",
        "slcw=[]\n",
        "for i in indx:\n",
        "  slcb.append(newdatab[i])\n",
        "  slcw.append(newdataw[i])\n",
        "print(slcb)\n",
        "print(len(slcb))"
      ],
      "execution_count": 14,
      "outputs": [
        {
          "output_type": "stream",
          "text": [
            "[['Market', [6, ['Food Processing Industry', 'Automotive Industry', 'Education Industry', 'Aluminium Industry', 'Jute Industry', 'Aerospace Industry']], [8, ['Fishing Industry', 'Food Processing Industry', 'Leather Industry', 'Energy Industry', 'Glass Industry', 'Automotive Industry', 'Cement Industry', 'Jute Industry']], [9, ['Fishing Industry', 'Tobacco Industry', 'Food Processing Industry', 'Chemical Industry ', 'Leather Industry', 'Energy Industry', 'Glass Industry', 'Aluminium Industry', 'Aerospace Industry']], [7, ['Fishing Industry', 'Food Processing Industry', 'Leather Industry', 'Plastic Industry', 'Automotive Industry', 'Cement Industry', 'Aluminium Industry']], [8, ['Fishing Industry', 'Leather Industry', 'Energy Industry', 'Glass Industry', 'Cement Industry', 'Aluminium Industry', 'Jute Industry', 'Aerospace Industry']], [5, ['Tobacco Industry', 'Chemical Industry ', 'Energy Industry', 'Education Industry', 'Jute Industry']], [6, ['Fishing Industry', 'Food Processing Industry', 'Leather Industry', 'Energy Industry', 'Aluminium Industry', 'Jute Industry']], [6, ['Fishing Industry', 'Tobacco Industry', 'Chemical Industry ', 'Glass Industry', 'Aluminium Industry', 'Aerospace Industry']], [0, []], [3, ['Fishing Industry', 'Cement Industry', 'Aerospace Industry']]], ['Water Body', [10, ['Wood Based Industry', 'Food Processing Industry', 'Paper Based', 'Live Stock Industry ', 'Textile Based', 'Automotive Industry', 'Pulp and Paper Industry', 'Service', 'Jute Industry', 'Steel Industry']], [0, []], [8, ['Fishing Industry', 'Wood Based Industry', 'Food Processing Industry', 'Leather Industry', 'Live Stock Industry ', 'Energy Industry', 'Glass Industry', 'Service']], [7, ['Fishing Industry', 'Food Processing Industry', 'Paper Based', 'Leather Industry', 'Live Stock Industry ', 'Automotive Industry', 'Cement Industry']], [10, ['Fishing Industry', 'Paper Based', 'Leather Industry', 'Rubber Industry', 'Textile Based', 'Energy Industry', 'Glass Industry', 'Cement Industry', 'Jute Industry', 'Steel Industry']], [9, ['Wood Based Industry', 'Paper Based', 'Live Stock Industry ', 'Textile Based', 'Energy Industry', 'Pulp and Paper Industry', 'Service', 'Jute Industry', 'Steel Industry']], [9, ['Fishing Industry', 'Wood Based Industry', 'Food Processing Industry', 'Leather Industry', 'Rubber Industry', 'Textile Based', 'Energy Industry', 'Service', 'Jute Industry']], [7, ['Fishing Industry', 'Paper Based', 'Live Stock Industry ', 'Textile Based', 'Glass Industry', 'Service', 'Steel Industry']], [8, ['Fishing Industry', 'Food Processing Industry', 'Leather Industry', 'Energy Industry', 'Glass Industry', 'Automotive Industry', 'Cement Industry', 'Jute Industry']], [7, ['Fishing Industry', 'Live Stock Industry ', 'Rubber Industry', 'Textile Based', 'Pulp and Paper Industry', 'Cement Industry', 'Steel Industry']]], ['Airways', [9, ['Paper Based', 'Textile Based', 'Electronics Industry', 'Shipbuilding Industry', 'Aluminium Industry', 'Jute Industry', 'Cotton Industry', 'Steel Industry', 'Aerospace Industry']], [10, ['Fishing Industry', 'Paper Based', 'Leather Industry', 'Rubber Industry', 'Textile Based', 'Energy Industry', 'Glass Industry', 'Cement Industry', 'Jute Industry', 'Steel Industry']], [8, ['Fishing Industry', 'Leather Industry', 'Energy Industry', 'Glass Industry', 'Aluminium Industry', 'Cotton Industry', 'Fan Manufacturing', 'Aerospace Industry']], [8, ['Fishing Industry', 'Paper Based', 'Leather Industry', 'Electronics Industry', 'Cement Industry', 'Aluminium Industry', 'Cotton Industry', 'Fan Manufacturing']], [0, []], [9, ['Paper Based', 'Textile Based', 'Energy Industry', 'Electronics Industry', 'Shipbuilding Industry', 'Jute Industry', 'Cotton Industry', 'Steel Industry', 'Fan Manufacturing']], [9, ['Fishing Industry', 'Leather Industry', 'Rubber Industry', 'Textile Based', 'Energy Industry', 'Electronics Industry', 'Shipbuilding Industry', 'Aluminium Industry', 'Jute Industry']], [8, ['Fishing Industry', 'Paper Based', 'Textile Based', 'Glass Industry', 'Electronics Industry', 'Aluminium Industry', 'Steel Industry', 'Aerospace Industry']], [8, ['Fishing Industry', 'Leather Industry', 'Energy Industry', 'Glass Industry', 'Cement Industry', 'Aluminium Industry', 'Jute Industry', 'Aerospace Industry']], [8, ['Fishing Industry', 'Rubber Industry', 'Textile Based', 'Cement Industry', 'Cotton Industry', 'Steel Industry', 'Fan Manufacturing', 'Aerospace Industry']]], ['Electricity', [13, ['Wood Based Industry', 'Paper Based', 'Live Stock Industry ', 'Textile Based', 'Ceramic Industry', 'Electronics Industry', 'Pulp and Paper Industry', 'Shipbuilding Industry', 'Education Industry', 'Service', 'Jute Industry', 'Cotton Industry', 'Steel Industry']], [9, ['Wood Based Industry', 'Paper Based', 'Live Stock Industry ', 'Textile Based', 'Energy Industry', 'Pulp and Paper Industry', 'Service', 'Jute Industry', 'Steel Industry']], [8, ['Wood Based Industry', 'Tobacco Industry', 'Chemical Industry ', 'Live Stock Industry ', 'Energy Industry', 'Service', 'Cotton Industry', 'Fan Manufacturing']], [6, ['Paper Based', 'Live Stock Industry ', 'Ceramic Industry', 'Electronics Industry', 'Cotton Industry', 'Fan Manufacturing']], [9, ['Paper Based', 'Textile Based', 'Energy Industry', 'Electronics Industry', 'Shipbuilding Industry', 'Jute Industry', 'Cotton Industry', 'Steel Industry', 'Fan Manufacturing']], [0, []], [8, ['Wood Based Industry', 'Textile Based', 'Energy Industry', 'Ceramic Industry', 'Electronics Industry', 'Shipbuilding Industry', 'Service', 'Jute Industry']], [9, ['Tobacco Industry', 'Chemical Industry ', 'Paper Based', 'Live Stock Industry ', 'Textile Based', 'Ceramic Industry', 'Electronics Industry', 'Service', 'Steel Industry']], [5, ['Tobacco Industry', 'Chemical Industry ', 'Energy Industry', 'Education Industry', 'Jute Industry']], [7, ['Live Stock Industry ', 'Textile Based', 'Ceramic Industry', 'Pulp and Paper Industry', 'Cotton Industry', 'Steel Industry', 'Fan Manufacturing']]]]\n",
            "4\n"
          ],
          "name": "stdout"
        }
      ]
    },
    {
      "metadata": {
        "id": "oYo4ihjRFMcf",
        "colab_type": "code",
        "colab": {
          "base_uri": "https://localhost:8080/",
          "height": 52
        },
        "outputId": "7f04e33a-a777-444a-d2ad-efb1164f7c04"
      },
      "cell_type": "code",
      "source": [
        "meanb={}\n",
        "meanw={}\n",
        "for i in range(1,len(colarr)):\n",
        "  mb=0;\n",
        "  mw=0;\n",
        "  for j in range(0,len(slcb)):\n",
        "    mb+=slcb[j][i][0]\n",
        "    mw+=slcw[j][i][0]\n",
        "  meanb[i]=mb/len(slcb)\n",
        "  meanw[i]=mw/len(slcw)\n",
        "print(meanb)\n",
        "print(meanw)"
      ],
      "execution_count": 17,
      "outputs": [
        {
          "output_type": "stream",
          "text": [
            "{1: 9.5, 2: 6.75, 3: 8.25, 4: 7.0, 5: 6.75, 6: 5.75, 7: 8.0, 8: 7.5, 9: 5.25, 10: 6.25}\n",
            "{1: 4.75, 2: 4.75, 3: 6.5, 4: 6.25, 5: 4.75, 6: 3.25, 7: 7.25, 8: 6.75, 9: 4.25, 10: 7.5}\n"
          ],
          "name": "stdout"
        }
      ]
    },
    {
      "metadata": {
        "id": "ZzKukAWYIU00",
        "colab_type": "code",
        "colab": {
          "base_uri": "https://localhost:8080/",
          "height": 52
        },
        "outputId": "48d3e410-d9ca-4abc-e347-f3cfdd4c0f0f"
      },
      "cell_type": "code",
      "source": [
        "best_ind=sorted(meanb.items(), key=lambda x: x[1],reverse=True)[0][0]\n",
        "worst_ind=sorted(meanw.items(), key=lambda x: x[1],reverse=True)[0][0]\n",
        "print(best_ind)\n",
        "print(worst_ind)\n"
      ],
      "execution_count": 23,
      "outputs": [
        {
          "output_type": "stream",
          "text": [
            "1\n",
            "10\n"
          ],
          "name": "stdout"
        }
      ]
    },
    {
      "metadata": {
        "id": "aYF78AgzMiXm",
        "colab_type": "code",
        "colab": {
          "base_uri": "https://localhost:8080/",
          "height": 72
        },
        "outputId": "35f8353a-4a6a-4a2e-eeb5-0d270941a28d"
      },
      "cell_type": "code",
      "source": [
        "best=[]\n",
        "worst=[]\n",
        "for i in range(0,len(slcb)):\n",
        "  best.extend(slcb[i][best_ind][1])\n",
        "for i in range(0,len(slcw)):\n",
        "  worst.extend(slcw[i][worst_ind][1])\n",
        "print(best)\n",
        "print(worst)"
      ],
      "execution_count": 24,
      "outputs": [
        {
          "output_type": "stream",
          "text": [
            "['Food Processing Industry', 'Automotive Industry', 'Education Industry', 'Aluminium Industry', 'Jute Industry', 'Aerospace Industry', 'Wood Based Industry', 'Food Processing Industry', 'Paper Based', 'Live Stock Industry ', 'Textile Based', 'Automotive Industry', 'Pulp and Paper Industry', 'Service', 'Jute Industry', 'Steel Industry', 'Paper Based', 'Textile Based', 'Electronics Industry', 'Shipbuilding Industry', 'Aluminium Industry', 'Jute Industry', 'Cotton Industry', 'Steel Industry', 'Aerospace Industry', 'Wood Based Industry', 'Paper Based', 'Live Stock Industry ', 'Textile Based', 'Ceramic Industry', 'Electronics Industry', 'Pulp and Paper Industry', 'Shipbuilding Industry', 'Education Industry', 'Service', 'Jute Industry', 'Cotton Industry', 'Steel Industry']\n",
            "['Wood Based Industry', 'Paper Based', 'Electronics Industry', 'Iron and Steel Based Industry', 'Shipbuilding Industry', 'Service', 'Tobacco Industry', 'Chemical Industry ', 'Plastic Industry', 'Electronics Industry', 'Iron and Steel Based Industry', 'Shipbuilding Industry', 'Education Industry', 'Aluminium Industry', 'Wood Based Industry', 'Tobacco Industry', 'Food Processing Industry', 'Chemical Industry ', 'Plastic Industry', 'Automotive Industry', 'Iron and Steel Based Industry', 'Education Industry', 'Service', 'Food Processing Industry', 'Leather Industry', 'Plastic Industry', 'Glass Industry', 'Automotive Industry', 'Iron and Steel Based Industry', 'Aluminium Industry']\n"
          ],
          "name": "stdout"
        }
      ]
    },
    {
      "metadata": {
        "id": "O11MO_gAKW2a",
        "colab_type": "code",
        "colab": {}
      },
      "cell_type": "code",
      "source": [
        ""
      ],
      "execution_count": 0,
      "outputs": []
    }
  ]
}